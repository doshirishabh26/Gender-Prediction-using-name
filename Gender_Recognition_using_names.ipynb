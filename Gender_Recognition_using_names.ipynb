{
  "nbformat": 4,
  "nbformat_minor": 0,
  "metadata": {
    "colab": {
      "name": "Gender-Recognition-using-names.ipynb",
      "provenance": []
    },
    "kernelspec": {
      "name": "python3",
      "display_name": "Python 3"
    },
    "accelerator": "GPU"
  },
  "cells": [
    {
      "cell_type": "code",
      "metadata": {
        "id": "hCNAqai7U9_Z",
        "colab_type": "code",
        "colab": {}
      },
      "source": [
        "df_female = pd.read_csv('Female-Names.csv')\n",
        "df_male = pd.read_csv('Male-Names.csv')"
      ],
      "execution_count": null,
      "outputs": []
    },
    {
      "cell_type": "code",
      "metadata": {
        "id": "by385n2nWOsW",
        "colab_type": "code",
        "colab": {
          "base_uri": "https://localhost:8080/",
          "height": 1000
        },
        "outputId": "87c9e805-8ae8-47ad-f971-ca365a255167"
      },
      "source": [
        "df_male"
      ],
      "execution_count": null,
      "outputs": [
        {
          "output_type": "execute_result",
          "data": {
            "text/html": [
              "<div>\n",
              "<style scoped>\n",
              "    .dataframe tbody tr th:only-of-type {\n",
              "        vertical-align: middle;\n",
              "    }\n",
              "\n",
              "    .dataframe tbody tr th {\n",
              "        vertical-align: top;\n",
              "    }\n",
              "\n",
              "    .dataframe thead th {\n",
              "        text-align: right;\n",
              "    }\n",
              "</style>\n",
              "<table border=\"1\" class=\"dataframe\">\n",
              "  <thead>\n",
              "    <tr style=\"text-align: right;\">\n",
              "      <th></th>\n",
              "      <th>name</th>\n",
              "      <th>gender</th>\n",
              "      <th>race</th>\n",
              "    </tr>\n",
              "  </thead>\n",
              "  <tbody>\n",
              "    <tr>\n",
              "      <th>0</th>\n",
              "      <td>barjraj</td>\n",
              "      <td>m</td>\n",
              "      <td>indian</td>\n",
              "    </tr>\n",
              "    <tr>\n",
              "      <th>1</th>\n",
              "      <td>ramdin verma</td>\n",
              "      <td>m</td>\n",
              "      <td>indian</td>\n",
              "    </tr>\n",
              "    <tr>\n",
              "      <th>2</th>\n",
              "      <td>sharat chandran</td>\n",
              "      <td>m</td>\n",
              "      <td>indian</td>\n",
              "    </tr>\n",
              "    <tr>\n",
              "      <th>3</th>\n",
              "      <td>birender mandal</td>\n",
              "      <td>m</td>\n",
              "      <td>indian</td>\n",
              "    </tr>\n",
              "    <tr>\n",
              "      <th>4</th>\n",
              "      <td>amit</td>\n",
              "      <td>m</td>\n",
              "      <td>indian</td>\n",
              "    </tr>\n",
              "    <tr>\n",
              "      <th>5</th>\n",
              "      <td>kushal</td>\n",
              "      <td>m</td>\n",
              "      <td>indian</td>\n",
              "    </tr>\n",
              "    <tr>\n",
              "      <th>6</th>\n",
              "      <td>kasid</td>\n",
              "      <td>m</td>\n",
              "      <td>indian</td>\n",
              "    </tr>\n",
              "    <tr>\n",
              "      <th>7</th>\n",
              "      <td>shiv prakash</td>\n",
              "      <td>m</td>\n",
              "      <td>indian</td>\n",
              "    </tr>\n",
              "    <tr>\n",
              "      <th>8</th>\n",
              "      <td>vikram singh</td>\n",
              "      <td>m</td>\n",
              "      <td>indian</td>\n",
              "    </tr>\n",
              "    <tr>\n",
              "      <th>9</th>\n",
              "      <td>sanjay</td>\n",
              "      <td>m</td>\n",
              "      <td>indian</td>\n",
              "    </tr>\n",
              "    <tr>\n",
              "      <th>10</th>\n",
              "      <td>abhi</td>\n",
              "      <td>m</td>\n",
              "      <td>indian</td>\n",
              "    </tr>\n",
              "    <tr>\n",
              "      <th>11</th>\n",
              "      <td>ram dutt gupta</td>\n",
              "      <td>m</td>\n",
              "      <td>indian</td>\n",
              "    </tr>\n",
              "    <tr>\n",
              "      <th>12</th>\n",
              "      <td>khadak singh</td>\n",
              "      <td>m</td>\n",
              "      <td>indian</td>\n",
              "    </tr>\n",
              "    <tr>\n",
              "      <th>13</th>\n",
              "      <td>gurmit singh</td>\n",
              "      <td>m</td>\n",
              "      <td>indian</td>\n",
              "    </tr>\n",
              "    <tr>\n",
              "      <th>14</th>\n",
              "      <td>chanderpal</td>\n",
              "      <td>m</td>\n",
              "      <td>indian</td>\n",
              "    </tr>\n",
              "    <tr>\n",
              "      <th>15</th>\n",
              "      <td>aman</td>\n",
              "      <td>m</td>\n",
              "      <td>indian</td>\n",
              "    </tr>\n",
              "    <tr>\n",
              "      <th>16</th>\n",
              "      <td>khursid</td>\n",
              "      <td>m</td>\n",
              "      <td>indian</td>\n",
              "    </tr>\n",
              "    <tr>\n",
              "      <th>17</th>\n",
              "      <td>rajeev</td>\n",
              "      <td>m</td>\n",
              "      <td>indian</td>\n",
              "    </tr>\n",
              "    <tr>\n",
              "      <th>18</th>\n",
              "      <td>durgesh</td>\n",
              "      <td>m</td>\n",
              "      <td>indian</td>\n",
              "    </tr>\n",
              "    <tr>\n",
              "      <th>19</th>\n",
              "      <td>nahar singh</td>\n",
              "      <td>m</td>\n",
              "      <td>indian</td>\n",
              "    </tr>\n",
              "    <tr>\n",
              "      <th>20</th>\n",
              "      <td>ram kumar</td>\n",
              "      <td>m</td>\n",
              "      <td>indian</td>\n",
              "    </tr>\n",
              "    <tr>\n",
              "      <th>21</th>\n",
              "      <td>sunder paal</td>\n",
              "      <td>m</td>\n",
              "      <td>indian</td>\n",
              "    </tr>\n",
              "    <tr>\n",
              "      <th>22</th>\n",
              "      <td>maansingh aswal</td>\n",
              "      <td>m</td>\n",
              "      <td>indian</td>\n",
              "    </tr>\n",
              "    <tr>\n",
              "      <th>23</th>\n",
              "      <td>rohit</td>\n",
              "      <td>m</td>\n",
              "      <td>indian</td>\n",
              "    </tr>\n",
              "    <tr>\n",
              "      <th>24</th>\n",
              "      <td>rohit</td>\n",
              "      <td>m</td>\n",
              "      <td>indian</td>\n",
              "    </tr>\n",
              "    <tr>\n",
              "      <th>25</th>\n",
              "      <td>sparsh</td>\n",
              "      <td>m</td>\n",
              "      <td>indian</td>\n",
              "    </tr>\n",
              "    <tr>\n",
              "      <th>26</th>\n",
              "      <td>santosh</td>\n",
              "      <td>m</td>\n",
              "      <td>indian</td>\n",
              "    </tr>\n",
              "    <tr>\n",
              "      <th>27</th>\n",
              "      <td>santosh</td>\n",
              "      <td>m</td>\n",
              "      <td>indian</td>\n",
              "    </tr>\n",
              "    <tr>\n",
              "      <th>28</th>\n",
              "      <td>punit khandelwal</td>\n",
              "      <td>m</td>\n",
              "      <td>indian</td>\n",
              "    </tr>\n",
              "    <tr>\n",
              "      <th>29</th>\n",
              "      <td>dinesh</td>\n",
              "      <td>m</td>\n",
              "      <td>indian</td>\n",
              "    </tr>\n",
              "    <tr>\n",
              "      <th>...</th>\n",
              "      <td>...</td>\n",
              "      <td>...</td>\n",
              "      <td>...</td>\n",
              "    </tr>\n",
              "    <tr>\n",
              "      <th>14810</th>\n",
              "      <td>manish bansal</td>\n",
              "      <td>m</td>\n",
              "      <td>indian</td>\n",
              "    </tr>\n",
              "    <tr>\n",
              "      <th>14811</th>\n",
              "      <td>chander bhan</td>\n",
              "      <td>m</td>\n",
              "      <td>indian</td>\n",
              "    </tr>\n",
              "    <tr>\n",
              "      <th>14812</th>\n",
              "      <td>jai</td>\n",
              "      <td>m</td>\n",
              "      <td>indian</td>\n",
              "    </tr>\n",
              "    <tr>\n",
              "      <th>14813</th>\n",
              "      <td>gurmeet singh @ golu</td>\n",
              "      <td>m</td>\n",
              "      <td>indian</td>\n",
              "    </tr>\n",
              "    <tr>\n",
              "      <th>14814</th>\n",
              "      <td>bablu</td>\n",
              "      <td>m</td>\n",
              "      <td>indian</td>\n",
              "    </tr>\n",
              "    <tr>\n",
              "      <th>14815</th>\n",
              "      <td>pinki</td>\n",
              "      <td>m</td>\n",
              "      <td>indian</td>\n",
              "    </tr>\n",
              "    <tr>\n",
              "      <th>14816</th>\n",
              "      <td>surender singh</td>\n",
              "      <td>m</td>\n",
              "      <td>indian</td>\n",
              "    </tr>\n",
              "    <tr>\n",
              "      <th>14817</th>\n",
              "      <td>vikram bahadur</td>\n",
              "      <td>m</td>\n",
              "      <td>indian</td>\n",
              "    </tr>\n",
              "    <tr>\n",
              "      <th>14818</th>\n",
              "      <td>kapil dutt</td>\n",
              "      <td>m</td>\n",
              "      <td>indian</td>\n",
              "    </tr>\n",
              "    <tr>\n",
              "      <th>14819</th>\n",
              "      <td>mukesh</td>\n",
              "      <td>m</td>\n",
              "      <td>indian</td>\n",
              "    </tr>\n",
              "    <tr>\n",
              "      <th>14820</th>\n",
              "      <td>harender</td>\n",
              "      <td>m</td>\n",
              "      <td>indian</td>\n",
              "    </tr>\n",
              "    <tr>\n",
              "      <th>14821</th>\n",
              "      <td>vinay kumar</td>\n",
              "      <td>m</td>\n",
              "      <td>indian</td>\n",
              "    </tr>\n",
              "    <tr>\n",
              "      <th>14822</th>\n",
              "      <td>surendra singh</td>\n",
              "      <td>m</td>\n",
              "      <td>indian</td>\n",
              "    </tr>\n",
              "    <tr>\n",
              "      <th>14823</th>\n",
              "      <td>bharat singh</td>\n",
              "      <td>m</td>\n",
              "      <td>indian</td>\n",
              "    </tr>\n",
              "    <tr>\n",
              "      <th>14824</th>\n",
              "      <td>vishal ahemad</td>\n",
              "      <td>m</td>\n",
              "      <td>indian</td>\n",
              "    </tr>\n",
              "    <tr>\n",
              "      <th>14825</th>\n",
              "      <td>ghanshyam</td>\n",
              "      <td>m</td>\n",
              "      <td>indian</td>\n",
              "    </tr>\n",
              "    <tr>\n",
              "      <th>14826</th>\n",
              "      <td>rayish</td>\n",
              "      <td>m</td>\n",
              "      <td>indian</td>\n",
              "    </tr>\n",
              "    <tr>\n",
              "      <th>14827</th>\n",
              "      <td>ayush</td>\n",
              "      <td>m</td>\n",
              "      <td>indian</td>\n",
              "    </tr>\n",
              "    <tr>\n",
              "      <th>14828</th>\n",
              "      <td>sunder jha</td>\n",
              "      <td>m</td>\n",
              "      <td>indian</td>\n",
              "    </tr>\n",
              "    <tr>\n",
              "      <th>14829</th>\n",
              "      <td>bhupender singh</td>\n",
              "      <td>m</td>\n",
              "      <td>indian</td>\n",
              "    </tr>\n",
              "    <tr>\n",
              "      <th>14830</th>\n",
              "      <td>pradeep kumar</td>\n",
              "      <td>m</td>\n",
              "      <td>indian</td>\n",
              "    </tr>\n",
              "    <tr>\n",
              "      <th>14831</th>\n",
              "      <td>ajeet singj</td>\n",
              "      <td>m</td>\n",
              "      <td>indian</td>\n",
              "    </tr>\n",
              "    <tr>\n",
              "      <th>14832</th>\n",
              "      <td>rajesh kumar</td>\n",
              "      <td>m</td>\n",
              "      <td>indian</td>\n",
              "    </tr>\n",
              "    <tr>\n",
              "      <th>14833</th>\n",
              "      <td>ashok shrivastav</td>\n",
              "      <td>m</td>\n",
              "      <td>indian</td>\n",
              "    </tr>\n",
              "    <tr>\n",
              "      <th>14834</th>\n",
              "      <td>jarnail singh</td>\n",
              "      <td>m</td>\n",
              "      <td>indian</td>\n",
              "    </tr>\n",
              "    <tr>\n",
              "      <th>14835</th>\n",
              "      <td>avid</td>\n",
              "      <td>m</td>\n",
              "      <td>indian</td>\n",
              "    </tr>\n",
              "    <tr>\n",
              "      <th>14836</th>\n",
              "      <td>vinod kumar</td>\n",
              "      <td>m</td>\n",
              "      <td>indian</td>\n",
              "    </tr>\n",
              "    <tr>\n",
              "      <th>14837</th>\n",
              "      <td>raj kumar</td>\n",
              "      <td>m</td>\n",
              "      <td>indian</td>\n",
              "    </tr>\n",
              "    <tr>\n",
              "      <th>14838</th>\n",
              "      <td>sanjya chhetri</td>\n",
              "      <td>m</td>\n",
              "      <td>indian</td>\n",
              "    </tr>\n",
              "    <tr>\n",
              "      <th>14839</th>\n",
              "      <td>raj kishor</td>\n",
              "      <td>m</td>\n",
              "      <td>indian</td>\n",
              "    </tr>\n",
              "  </tbody>\n",
              "</table>\n",
              "<p>14840 rows × 3 columns</p>\n",
              "</div>"
            ],
            "text/plain": [
              "                       name gender    race\n",
              "0                   barjraj      m  indian\n",
              "1              ramdin verma      m  indian\n",
              "2           sharat chandran      m  indian\n",
              "3           birender mandal      m  indian\n",
              "4                      amit      m  indian\n",
              "5                    kushal      m  indian\n",
              "6                     kasid      m  indian\n",
              "7              shiv prakash      m  indian\n",
              "8              vikram singh      m  indian\n",
              "9                    sanjay      m  indian\n",
              "10                     abhi      m  indian\n",
              "11           ram dutt gupta      m  indian\n",
              "12             khadak singh      m  indian\n",
              "13             gurmit singh      m  indian\n",
              "14               chanderpal      m  indian\n",
              "15                     aman      m  indian\n",
              "16                  khursid      m  indian\n",
              "17                   rajeev      m  indian\n",
              "18                  durgesh      m  indian\n",
              "19              nahar singh      m  indian\n",
              "20                ram kumar      m  indian\n",
              "21              sunder paal      m  indian\n",
              "22          maansingh aswal      m  indian\n",
              "23                    rohit      m  indian\n",
              "24                    rohit      m  indian\n",
              "25                   sparsh      m  indian\n",
              "26                  santosh      m  indian\n",
              "27                  santosh      m  indian\n",
              "28         punit khandelwal      m  indian\n",
              "29                   dinesh      m  indian\n",
              "...                     ...    ...     ...\n",
              "14810         manish bansal      m  indian\n",
              "14811          chander bhan      m  indian\n",
              "14812                   jai      m  indian\n",
              "14813  gurmeet singh @ golu      m  indian\n",
              "14814                 bablu      m  indian\n",
              "14815                 pinki      m  indian\n",
              "14816        surender singh      m  indian\n",
              "14817        vikram bahadur      m  indian\n",
              "14818            kapil dutt      m  indian\n",
              "14819                mukesh      m  indian\n",
              "14820              harender      m  indian\n",
              "14821           vinay kumar      m  indian\n",
              "14822        surendra singh      m  indian\n",
              "14823          bharat singh      m  indian\n",
              "14824         vishal ahemad      m  indian\n",
              "14825             ghanshyam      m  indian\n",
              "14826                rayish      m  indian\n",
              "14827                 ayush      m  indian\n",
              "14828            sunder jha      m  indian\n",
              "14829       bhupender singh      m  indian\n",
              "14830         pradeep kumar      m  indian\n",
              "14831           ajeet singj      m  indian\n",
              "14832          rajesh kumar      m  indian\n",
              "14833      ashok shrivastav      m  indian\n",
              "14834         jarnail singh      m  indian\n",
              "14835                  avid      m  indian\n",
              "14836           vinod kumar      m  indian\n",
              "14837             raj kumar      m  indian\n",
              "14838        sanjya chhetri      m  indian\n",
              "14839            raj kishor      m  indian\n",
              "\n",
              "[14840 rows x 3 columns]"
            ]
          },
          "metadata": {
            "tags": []
          },
          "execution_count": 4
        }
      ]
    },
    {
      "cell_type": "code",
      "metadata": {
        "id": "BFY1qM19emcA",
        "colab_type": "code",
        "colab": {}
      },
      "source": [
        ""
      ],
      "execution_count": null,
      "outputs": []
    },
    {
      "cell_type": "code",
      "metadata": {
        "id": "NXD9Zv1qWTSI",
        "colab_type": "code",
        "colab": {}
      },
      "source": [
        "df = pd.concat([df_female , df_male])"
      ],
      "execution_count": null,
      "outputs": []
    },
    {
      "cell_type": "code",
      "metadata": {
        "id": "IRY9YwE5ZAay",
        "colab_type": "code",
        "colab": {}
      },
      "source": [
        "char2idx = {}\n",
        "char_set = [' ', '.','END', 'a', 'c', 'b', 'e', 'd', 'g', 'f', 'i', 'h', 'k', 'j', 'm', 'l', 'o', 'n', 'q', 'p', 's', 'r', 'u', 't', 'w', 'v', 'y', 'x', 'z']\n",
        "index = 0\n",
        "for ch in char_set:\n",
        "    char2idx[ch] = index\n",
        "    index += 1\n",
        "   "
      ],
      "execution_count": null,
      "outputs": []
    },
    {
      "cell_type": "code",
      "metadata": {
        "id": "N9UUcYCMZ2Yr",
        "colab_type": "code",
        "colab": {}
      },
      "source": [
        "def should_keep(word):\n",
        "    if len(word) > 19:\n",
        "        return False\n",
        "    for ch in word:\n",
        "        if ch not in set(char_set):\n",
        "            return False\n",
        "    return True"
      ],
      "execution_count": null,
      "outputs": []
    },
    {
      "cell_type": "code",
      "metadata": {
        "id": "yNJEXWbEXDvn",
        "colab_type": "code",
        "colab": {}
      },
      "source": [
        "def clean(word):\n",
        "    word = str(word)\n",
        "    char_set = [' ', '.','END', 'a', 'c', 'b', 'e', 'd', 'g', 'f', 'i', 'h', 'k', 'j', 'm', 'l', 'o', 'n', 'q', 'p', 's', 'r', 'u', 't', 'w', 'v', 'y', 'x', 'z']\n",
        "    name = word.lower()\n",
        "    if should_keep(name):\n",
        "        return name\n",
        "    else:\n",
        "        return None"
      ],
      "execution_count": null,
      "outputs": []
    },
    {
      "cell_type": "code",
      "metadata": {
        "id": "cO6-Jn0eXJhM",
        "colab_type": "code",
        "colab": {}
      },
      "source": [
        "df.name = df.name.apply(lambda x : clean(x))"
      ],
      "execution_count": null,
      "outputs": []
    },
    {
      "cell_type": "code",
      "metadata": {
        "id": "YGeEouqRblvi",
        "colab_type": "code",
        "colab": {}
      },
      "source": [
        "df = df.dropna()"
      ],
      "execution_count": null,
      "outputs": []
    },
    {
      "cell_type": "code",
      "metadata": {
        "id": "uG_q0gNGcDym",
        "colab_type": "code",
        "colab": {}
      },
      "source": [
        "max_word_len = 20\n",
        "def convert_one_hot(word):\n",
        "    word_chars = []\n",
        "    \n",
        "    \n",
        "    for ch in word:\n",
        "        print(word)\n",
        "        one_hot_vec = np.zeros(len(char_set),)\n",
        "        one_hot_vec[char2idx[ch]] = 1\n",
        "        word_chars.append(one_hot_vec)\n",
        "    \n",
        "    \n",
        "    for _ in range(max_word_len-len(word)):\n",
        "        one_hot_vec = np.zeros(len(char_set),)\n",
        "        one_hot_vec[char2idx['END']] = 1\n",
        "        word_chars.append(one_hot_vec)\n",
        "    \n",
        "    \n",
        "    word_chars = np.array(word_chars)\n",
        "    return word_chars"
      ],
      "execution_count": null,
      "outputs": []
    },
    {
      "cell_type": "code",
      "metadata": {
        "id": "2EyHxiyacFTB",
        "colab_type": "code",
        "colab": {}
      },
      "source": [
        "words = []\n",
        "labels = []\n",
        "for n , g in df.drop('race' , axis = 1).itertuples(index=False):\n",
        "    words.append(convert_one_hot(n))\n",
        "    labels.append(g)"
      ],
      "execution_count": null,
      "outputs": []
    },
    {
      "cell_type": "code",
      "metadata": {
        "id": "6_afoOxcgxY8",
        "colab_type": "code",
        "colab": {}
      },
      "source": [
        "words = np.array(words)\n",
        "labels = np.array(labels)"
      ],
      "execution_count": null,
      "outputs": []
    },
    {
      "cell_type": "code",
      "metadata": {
        "id": "VlanUzOig6M0",
        "colab_type": "code",
        "colab": {
          "base_uri": "https://localhost:8080/",
          "height": 35
        },
        "outputId": "acb5645a-9695-4257-fc76-7ff107b3b421"
      },
      "source": [
        "words.shape"
      ],
      "execution_count": null,
      "outputs": [
        {
          "output_type": "execute_result",
          "data": {
            "text/plain": [
              "(27980, 20, 29)"
            ]
          },
          "metadata": {
            "tags": []
          },
          "execution_count": 14
        }
      ]
    },
    {
      "cell_type": "code",
      "metadata": {
        "id": "72ufKQNghCBA",
        "colab_type": "code",
        "colab": {}
      },
      "source": [
        "ohe = OneHotEncoder()\n",
        "y = ohe.fit_transform(labels.reshape(-1 , 1)).todense()"
      ],
      "execution_count": null,
      "outputs": []
    },
    {
      "cell_type": "code",
      "metadata": {
        "id": "9V3iLECuh3Dn",
        "colab_type": "code",
        "colab": {
          "base_uri": "https://localhost:8080/",
          "height": 199
        },
        "outputId": "cf5ec79b-10cf-4078-b9e6-932288525438"
      },
      "source": [
        "y[:10]"
      ],
      "execution_count": null,
      "outputs": [
        {
          "output_type": "execute_result",
          "data": {
            "text/plain": [
              "matrix([[1., 0.],\n",
              "        [1., 0.],\n",
              "        [1., 0.],\n",
              "        [1., 0.],\n",
              "        [1., 0.],\n",
              "        [1., 0.],\n",
              "        [1., 0.],\n",
              "        [1., 0.],\n",
              "        [1., 0.],\n",
              "        [1., 0.]])"
            ]
          },
          "metadata": {
            "tags": []
          },
          "execution_count": 16
        }
      ]
    },
    {
      "cell_type": "code",
      "metadata": {
        "id": "ZksM2tPTh_wt",
        "colab_type": "code",
        "colab": {
          "base_uri": "https://localhost:8080/",
          "height": 231
        },
        "outputId": "66527e8f-4c95-4de6-cb79-b9deb52a2145"
      },
      "source": [
        "model = Sequential()\n",
        "model.add(LSTM(64 , input_shape = (20 , 29)  , return_sequences = True))\n",
        "model.add(LSTM(64))\n",
        "model.add(Dropout(.3))\n",
        "model.add(Dense(2 , activation='sigmoid'))\n",
        "model.summary()"
      ],
      "execution_count": null,
      "outputs": [
        {
          "output_type": "error",
          "ename": "NameError",
          "evalue": "ignored",
          "traceback": [
            "\u001b[0;31m---------------------------------------------------------------------------\u001b[0m",
            "\u001b[0;31mNameError\u001b[0m                                 Traceback (most recent call last)",
            "\u001b[0;32m<ipython-input-1-f0391d556af9>\u001b[0m in \u001b[0;36m<module>\u001b[0;34m()\u001b[0m\n\u001b[0;32m----> 1\u001b[0;31m \u001b[0mmodel\u001b[0m \u001b[0;34m=\u001b[0m \u001b[0mSequential\u001b[0m\u001b[0;34m(\u001b[0m\u001b[0;34m)\u001b[0m\u001b[0;34m\u001b[0m\u001b[0;34m\u001b[0m\u001b[0m\n\u001b[0m\u001b[1;32m      2\u001b[0m \u001b[0mmodel\u001b[0m\u001b[0;34m.\u001b[0m\u001b[0madd\u001b[0m\u001b[0;34m(\u001b[0m\u001b[0mLSTM\u001b[0m\u001b[0;34m(\u001b[0m\u001b[0;36m64\u001b[0m \u001b[0;34m,\u001b[0m \u001b[0minput_shape\u001b[0m \u001b[0;34m=\u001b[0m \u001b[0;34m(\u001b[0m\u001b[0;36m20\u001b[0m \u001b[0;34m,\u001b[0m \u001b[0;36m29\u001b[0m\u001b[0;34m)\u001b[0m  \u001b[0;34m,\u001b[0m \u001b[0mreturn_sequences\u001b[0m \u001b[0;34m=\u001b[0m \u001b[0;32mTrue\u001b[0m\u001b[0;34m)\u001b[0m\u001b[0;34m)\u001b[0m\u001b[0;34m\u001b[0m\u001b[0;34m\u001b[0m\u001b[0m\n\u001b[1;32m      3\u001b[0m \u001b[0mmodel\u001b[0m\u001b[0;34m.\u001b[0m\u001b[0madd\u001b[0m\u001b[0;34m(\u001b[0m\u001b[0mLSTM\u001b[0m\u001b[0;34m(\u001b[0m\u001b[0;36m64\u001b[0m\u001b[0;34m)\u001b[0m\u001b[0;34m)\u001b[0m\u001b[0;34m\u001b[0m\u001b[0;34m\u001b[0m\u001b[0m\n\u001b[1;32m      4\u001b[0m \u001b[0mmodel\u001b[0m\u001b[0;34m.\u001b[0m\u001b[0madd\u001b[0m\u001b[0;34m(\u001b[0m\u001b[0mDropout\u001b[0m\u001b[0;34m(\u001b[0m\u001b[0;36m.3\u001b[0m\u001b[0;34m)\u001b[0m\u001b[0;34m)\u001b[0m\u001b[0;34m\u001b[0m\u001b[0;34m\u001b[0m\u001b[0m\n\u001b[1;32m      5\u001b[0m \u001b[0mmodel\u001b[0m\u001b[0;34m.\u001b[0m\u001b[0madd\u001b[0m\u001b[0;34m(\u001b[0m\u001b[0mDense\u001b[0m\u001b[0;34m(\u001b[0m\u001b[0;36m2\u001b[0m \u001b[0;34m,\u001b[0m \u001b[0mactivation\u001b[0m\u001b[0;34m=\u001b[0m\u001b[0;34m'sigmoid'\u001b[0m\u001b[0;34m)\u001b[0m\u001b[0;34m)\u001b[0m\u001b[0;34m\u001b[0m\u001b[0;34m\u001b[0m\u001b[0m\n",
            "\u001b[0;31mNameError\u001b[0m: name 'Sequential' is not defined"
          ]
        }
      ]
    },
    {
      "cell_type": "code",
      "metadata": {
        "id": "spR15LTJpW6t",
        "colab_type": "code",
        "colab": {
          "base_uri": "https://localhost:8080/",
          "height": 163
        },
        "outputId": "2137cd02-0e53-4772-a826-1a08bb0f2cf7"
      },
      "source": [
        "model.compile(optimizer='rmsprop' , loss = 'binary_crossentropy' , metrics = ['acc'])"
      ],
      "execution_count": null,
      "outputs": [
        {
          "output_type": "error",
          "ename": "NameError",
          "evalue": "ignored",
          "traceback": [
            "\u001b[0;31m---------------------------------------------------------------------------\u001b[0m",
            "\u001b[0;31mNameError\u001b[0m                                 Traceback (most recent call last)",
            "\u001b[0;32m<ipython-input-2-4d28e4cbf374>\u001b[0m in \u001b[0;36m<module>\u001b[0;34m()\u001b[0m\n\u001b[0;32m----> 1\u001b[0;31m \u001b[0mmodel\u001b[0m\u001b[0;34m.\u001b[0m\u001b[0mcompile\u001b[0m\u001b[0;34m(\u001b[0m\u001b[0moptimizer\u001b[0m\u001b[0;34m=\u001b[0m\u001b[0;34m'rmsprop'\u001b[0m \u001b[0;34m,\u001b[0m \u001b[0mloss\u001b[0m \u001b[0;34m=\u001b[0m \u001b[0;34m'binary_crossentropy'\u001b[0m \u001b[0;34m,\u001b[0m \u001b[0mmetrics\u001b[0m \u001b[0;34m=\u001b[0m \u001b[0;34m[\u001b[0m\u001b[0;34m'acc'\u001b[0m\u001b[0;34m]\u001b[0m\u001b[0;34m)\u001b[0m\u001b[0;34m\u001b[0m\u001b[0;34m\u001b[0m\u001b[0m\n\u001b[0m",
            "\u001b[0;31mNameError\u001b[0m: name 'model' is not defined"
          ]
        }
      ]
    },
    {
      "cell_type": "code",
      "metadata": {
        "id": "bkApXl7_pvj0",
        "colab_type": "code",
        "colab": {}
      },
      "source": [
        "train_test_split?"
      ],
      "execution_count": null,
      "outputs": []
    },
    {
      "cell_type": "code",
      "metadata": {
        "colab_type": "code",
        "id": "dqSCqpRZqA6Q",
        "colab": {
          "base_uri": "https://localhost:8080/",
          "height": 308
        },
        "outputId": "f947f6dd-09f1-4b01-ec6c-f1d7ddeb2c19"
      },
      "source": [
        "model = Sequential()\n",
        "model.add(LSTM(128 , input_shape = (20 , 29)  , return_sequences = True))\n",
        "model.add(LSTM(64))\n",
        "model.add(Dropout(.3))\n",
        "model.add(Dense(2 , activation='sigmoid'))\n",
        "model.summary()"
      ],
      "execution_count": null,
      "outputs": [
        {
          "output_type": "stream",
          "text": [
            "Model: \"sequential_2\"\n",
            "_________________________________________________________________\n",
            "Layer (type)                 Output Shape              Param #   \n",
            "=================================================================\n",
            "lstm_3 (LSTM)                (None, 20, 128)           80896     \n",
            "_________________________________________________________________\n",
            "lstm_4 (LSTM)                (None, 64)                49408     \n",
            "_________________________________________________________________\n",
            "dropout_2 (Dropout)          (None, 64)                0         \n",
            "_________________________________________________________________\n",
            "dense_2 (Dense)              (None, 2)                 130       \n",
            "=================================================================\n",
            "Total params: 130,434\n",
            "Trainable params: 130,434\n",
            "Non-trainable params: 0\n",
            "_________________________________________________________________\n"
          ],
          "name": "stdout"
        }
      ]
    },
    {
      "cell_type": "code",
      "metadata": {
        "colab_type": "code",
        "id": "SwKaaa6TqA6m",
        "colab": {}
      },
      "source": [
        "model.compile(optimizer='rmsprop' , loss = 'binary_crossentropy' , metrics = ['acc'])"
      ],
      "execution_count": null,
      "outputs": []
    },
    {
      "cell_type": "code",
      "metadata": {
        "colab_type": "code",
        "id": "HR5TWrOVqA6u",
        "colab": {}
      },
      "source": [
        "train_test_split?"
      ],
      "execution_count": null,
      "outputs": []
    },
    {
      "cell_type": "code",
      "metadata": {
        "colab_type": "code",
        "id": "JS_UN9FXqB54",
        "colab": {
          "base_uri": "https://localhost:8080/",
          "height": 308
        },
        "outputId": "9eca2cb8-b678-43d1-d515-7c95e93c1ef3"
      },
      "source": [
        "model = Sequential()\n",
        "model.add(LSTM(64 , input_shape = (20 , 29)  , return_sequences = True))\n",
        "model.add(LSTM(64))\n",
        "model.add(Dropout(.3))\n",
        "model.add(Dense(2 , activation='sigmoid'))\n",
        "model.summary()"
      ],
      "execution_count": null,
      "outputs": [
        {
          "output_type": "stream",
          "text": [
            "Model: \"sequential_3\"\n",
            "_________________________________________________________________\n",
            "Layer (type)                 Output Shape              Param #   \n",
            "=================================================================\n",
            "lstm_5 (LSTM)                (None, 20, 64)            24064     \n",
            "_________________________________________________________________\n",
            "lstm_6 (LSTM)                (None, 64)                33024     \n",
            "_________________________________________________________________\n",
            "dropout_3 (Dropout)          (None, 64)                0         \n",
            "_________________________________________________________________\n",
            "dense_3 (Dense)              (None, 2)                 130       \n",
            "=================================================================\n",
            "Total params: 57,218\n",
            "Trainable params: 57,218\n",
            "Non-trainable params: 0\n",
            "_________________________________________________________________\n"
          ],
          "name": "stdout"
        }
      ]
    },
    {
      "cell_type": "code",
      "metadata": {
        "colab_type": "code",
        "id": "WEHOn_0SqB6H",
        "colab": {}
      },
      "source": [
        "model.compile(optimizer='rmsprop' , loss = 'binary_crossentropy' , metrics = ['acc'])"
      ],
      "execution_count": null,
      "outputs": []
    },
    {
      "cell_type": "code",
      "metadata": {
        "colab_type": "code",
        "id": "bi558SzOqB6Q",
        "colab": {}
      },
      "source": [
        ""
      ],
      "execution_count": null,
      "outputs": []
    },
    {
      "cell_type": "code",
      "metadata": {
        "colab_type": "code",
        "id": "Ygk7rKkmqDnD",
        "colab": {
          "base_uri": "https://localhost:8080/",
          "height": 308
        },
        "outputId": "d4c54db7-c5d8-48ab-e530-725c4be9700b"
      },
      "source": [
        "model = Sequential()\n",
        "model.add(LSTM(64 , input_shape = (20 , 29)  , return_sequences = True))\n",
        "model.add(LSTM(64))\n",
        "model.add(Dropout(.3))\n",
        "model.add(Dense(2 , activation='sigmoid'))\n",
        "model.summary()"
      ],
      "execution_count": null,
      "outputs": [
        {
          "output_type": "stream",
          "text": [
            "Model: \"sequential_4\"\n",
            "_________________________________________________________________\n",
            "Layer (type)                 Output Shape              Param #   \n",
            "=================================================================\n",
            "lstm_7 (LSTM)                (None, 20, 64)            24064     \n",
            "_________________________________________________________________\n",
            "lstm_8 (LSTM)                (None, 64)                33024     \n",
            "_________________________________________________________________\n",
            "dropout_4 (Dropout)          (None, 64)                0         \n",
            "_________________________________________________________________\n",
            "dense_4 (Dense)              (None, 2)                 130       \n",
            "=================================================================\n",
            "Total params: 57,218\n",
            "Trainable params: 57,218\n",
            "Non-trainable params: 0\n",
            "_________________________________________________________________\n"
          ],
          "name": "stdout"
        }
      ]
    },
    {
      "cell_type": "code",
      "metadata": {
        "colab_type": "code",
        "id": "Fm6I495HqDnT",
        "colab": {}
      },
      "source": [
        "model.compile(optimizer='rmsprop' , loss = 'binary_crossentropy' , metrics = ['acc'])"
      ],
      "execution_count": null,
      "outputs": []
    },
    {
      "cell_type": "code",
      "metadata": {
        "id": "BF6SVUTMp8EM",
        "colab_type": "code",
        "colab": {}
      },
      "source": [
        "X_train, X_test, y_train, y_test = train_test_split(words, y, test_size=0.33, random_state=42)"
      ],
      "execution_count": null,
      "outputs": []
    },
    {
      "cell_type": "code",
      "metadata": {
        "id": "L_P3nCw8qJ39",
        "colab_type": "code",
        "colab": {
          "base_uri": "https://localhost:8080/",
          "height": 399
        },
        "outputId": "437eb7ab-d391-4de6-8f3a-5b963f8ab95d"
      },
      "source": [
        "model.fit(X_train , y_train , epochs = 10)"
      ],
      "execution_count": null,
      "outputs": [
        {
          "output_type": "stream",
          "text": [
            "Epoch 1/10\n",
            "18746/18746 [==============================] - 57s 3ms/step - loss: 0.5181 - acc: 0.7473\n",
            "Epoch 2/10\n",
            "18746/18746 [==============================] - 51s 3ms/step - loss: 0.3983 - acc: 0.8278\n",
            "Epoch 3/10\n",
            "18746/18746 [==============================] - 51s 3ms/step - loss: 0.3422 - acc: 0.8606\n",
            "Epoch 4/10\n",
            "18746/18746 [==============================] - 51s 3ms/step - loss: 0.3038 - acc: 0.8802\n",
            "Epoch 5/10\n",
            "18746/18746 [==============================] - 51s 3ms/step - loss: 0.2775 - acc: 0.8929\n",
            "Epoch 6/10\n",
            "18746/18746 [==============================] - 52s 3ms/step - loss: 0.2582 - acc: 0.9044\n",
            "Epoch 7/10\n",
            "18746/18746 [==============================] - 52s 3ms/step - loss: 0.2393 - acc: 0.9128\n",
            "Epoch 8/10\n",
            "18746/18746 [==============================] - 52s 3ms/step - loss: 0.2257 - acc: 0.9198\n",
            "Epoch 9/10\n",
            "18746/18746 [==============================] - 52s 3ms/step - loss: 0.2139 - acc: 0.9265\n",
            "Epoch 10/10\n",
            "18746/18746 [==============================] - 52s 3ms/step - loss: 0.2046 - acc: 0.9284\n"
          ],
          "name": "stdout"
        },
        {
          "output_type": "execute_result",
          "data": {
            "text/plain": [
              "<keras.callbacks.History at 0x7fd596e61eb8>"
            ]
          },
          "metadata": {
            "tags": []
          },
          "execution_count": 28
        }
      ]
    },
    {
      "cell_type": "code",
      "metadata": {
        "id": "sv9_kVp9qPMZ",
        "colab_type": "code",
        "colab": {
          "base_uri": "https://localhost:8080/",
          "height": 54
        },
        "outputId": "032a14a7-6c73-4c8e-c266-7f0573bfbeb0"
      },
      "source": [
        "model.evaluate(X_test , y_test)"
      ],
      "execution_count": null,
      "outputs": [
        {
          "output_type": "stream",
          "text": [
            "9234/9234 [==============================] - 10s 1ms/step\n"
          ],
          "name": "stdout"
        },
        {
          "output_type": "execute_result",
          "data": {
            "text/plain": [
              "[0.2331865997587625, 0.9205653021571594]"
            ]
          },
          "metadata": {
            "tags": []
          },
          "execution_count": 29
        }
      ]
    },
    {
      "cell_type": "code",
      "metadata": {
        "id": "rxUjo9dqtjIL",
        "colab_type": "code",
        "colab": {
          "base_uri": "https://localhost:8080/",
          "height": 35
        },
        "outputId": "65b9bcaf-3d98-4729-958b-1de59a0fab5a"
      },
      "source": [
        "name = 'shreya'\n",
        "model.predict(convert_one_hot(name).reshape(1 , 20 , 29))"
      ],
      "execution_count": null,
      "outputs": [
        {
          "output_type": "execute_result",
          "data": {
            "text/plain": [
              "array([[0.9699597 , 0.03057231]], dtype=float32)"
            ]
          },
          "metadata": {
            "tags": []
          },
          "execution_count": 30
        }
      ]
    },
    {
      "cell_type": "code",
      "metadata": {
        "id": "4Uh5xm-gt_TR",
        "colab_type": "code",
        "colab": {
          "base_uri": "https://localhost:8080/",
          "height": 35
        },
        "outputId": "c10ec8c2-60c6-429b-f2a6-e249f616c660"
      },
      "source": [
        "name = 'anuj'\n",
        "model.predict(convert_one_hot(name).reshape(1 , 20 , 29))"
      ],
      "execution_count": null,
      "outputs": [
        {
          "output_type": "execute_result",
          "data": {
            "text/plain": [
              "array([[0.08267006, 0.90687656]], dtype=float32)"
            ]
          },
          "metadata": {
            "tags": []
          },
          "execution_count": 31
        }
      ]
    },
    {
      "cell_type": "code",
      "metadata": {
        "id": "fMJ3kuL7udpM",
        "colab_type": "code",
        "colab": {
          "base_uri": "https://localhost:8080/",
          "height": 35
        },
        "outputId": "4a1fb91f-1163-4fe6-e029-a06d57a1d0f0"
      },
      "source": [
        "name = 'lovely'\n",
        "model.predict(convert_one_hot(name).reshape(1 , 20 , 29))"
      ],
      "execution_count": null,
      "outputs": [
        {
          "output_type": "execute_result",
          "data": {
            "text/plain": [
              "array([[0.36418867, 0.63096476]], dtype=float32)"
            ]
          },
          "metadata": {
            "tags": []
          },
          "execution_count": 32
        }
      ]
    },
    {
      "cell_type": "code",
      "metadata": {
        "id": "RPayXqemudhV",
        "colab_type": "code",
        "colab": {
          "base_uri": "https://localhost:8080/",
          "height": 35
        },
        "outputId": "cf6f11d5-bc32-46bd-caac-16411ae74044"
      },
      "source": [
        "name = 'sweety'\n",
        "model.predict(convert_one_hot(name).reshape(1 , 20 , 29))"
      ],
      "execution_count": null,
      "outputs": [
        {
          "output_type": "execute_result",
          "data": {
            "text/plain": [
              "array([[0.6060676 , 0.38968748]], dtype=float32)"
            ]
          },
          "metadata": {
            "tags": []
          },
          "execution_count": 33
        }
      ]
    },
    {
      "cell_type": "code",
      "metadata": {
        "id": "1BPmqdOCulJl",
        "colab_type": "code",
        "colab": {}
      },
      "source": [
        ""
      ],
      "execution_count": null,
      "outputs": []
    },
    {
      "cell_type": "code",
      "metadata": {
        "id": "G7peVIyVoXuJ",
        "colab_type": "code",
        "colab": {}
      },
      "source": [
        ""
      ],
      "execution_count": null,
      "outputs": []
    },
    {
      "cell_type": "code",
      "metadata": {
        "colab_type": "code",
        "id": "oekKZCL6Pur2",
        "colab": {}
      },
      "source": [
        ""
      ],
      "execution_count": null,
      "outputs": []
    }
  ]
}